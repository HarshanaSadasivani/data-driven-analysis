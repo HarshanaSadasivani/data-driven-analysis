{
 "cells": [
  {
   "cell_type": "code",
   "execution_count": 8,
   "id": "d93ea36c",
   "metadata": {},
   "outputs": [
    {
     "data": {
      "application/vnd.plotly.v1+json": {
       "config": {
        "plotlyServerURL": "https://plot.ly"
       },
       "data": [
        {
         "customdata": [
          [
           "Influenza",
           "Female"
          ],
          [
           "Asthma",
           "Male"
          ],
          [
           "Asthma",
           "Male"
          ],
          [
           "Eczema",
           "Female"
          ],
          [
           "Influenza",
           "Female"
          ],
          [
           "Influenza",
           "Female"
          ],
          [
           "Asthma",
           "Male"
          ],
          [
           "Depression",
           "Male"
          ],
          [
           "Liver Cancer",
           "Female"
          ],
          [
           "Stroke",
           "Female"
          ],
          [
           "Urinary Tract Infection",
           "Male"
          ],
          [
           "Asthma",
           "Female"
          ],
          [
           "Asthma",
           "Female"
          ],
          [
           "Asthma",
           "Female"
          ],
          [
           "Bipolar Disorder",
           "Female"
          ],
          [
           "Bronchitis",
           "Female"
          ],
          [
           "Bronchitis",
           "Male"
          ],
          [
           "Bronchitis",
           "Male"
          ],
          [
           "Cerebral Palsy",
           "Female"
          ],
          [
           "Colorectal Cancer",
           "Female"
          ],
          [
           "Eczema",
           "Male"
          ],
          [
           "Hypertensive Heart Disease",
           "Female"
          ],
          [
           "Influenza",
           "Male"
          ],
          [
           "Influenza",
           "Female"
          ],
          [
           "Multiple Sclerosis",
           "Female"
          ],
          [
           "Myocardial Infarction (Heart...",
           "Female"
          ],
          [
           "Urinary Tract Infection (UTI)",
           "Female"
          ],
          [
           "Common Cold",
           "Male"
          ],
          [
           "Migraine",
           "Female"
          ],
          [
           "Pneumonia",
           "Female"
          ],
          [
           "Asthma",
           "Male"
          ],
          [
           "Asthma",
           "Male"
          ],
          [
           "Cirrhosis",
           "Female"
          ],
          [
           "Conjunctivitis (Pink Eye)",
           "Female"
          ],
          [
           "Depression",
           "Female"
          ],
          [
           "Gastroenteritis",
           "Male"
          ],
          [
           "Hyperthyroidism",
           "Male"
          ],
          [
           "Hyperthyroidism",
           "Male"
          ],
          [
           "Kidney Cancer",
           "Male"
          ],
          [
           "Liver Cancer",
           "Female"
          ],
          [
           "Liver Disease",
           "Male"
          ],
          [
           "Malaria",
           "Male"
          ],
          [
           "Malaria",
           "Male"
          ],
          [
           "Migraine",
           "Male"
          ],
          [
           "Migraine",
           "Male"
          ],
          [
           "Pancreatitis",
           "Male"
          ],
          [
           "Rheumatoid Arthritis",
           "Male"
          ],
          [
           "Rheumatoid Arthritis",
           "Female"
          ],
          [
           "Spina Bifida",
           "Female"
          ],
          [
           "Ulcerative Colitis",
           "Male"
          ],
          [
           "Ulcerative Colitis",
           "Male"
          ],
          [
           "Urinary Tract Infection",
           "Female"
          ],
          [
           "Anxiety Disorders",
           "Male"
          ],
          [
           "Diabetes",
           "Male"
          ],
          [
           "Migraine",
           "Male"
          ],
          [
           "Osteoarthritis",
           "Male"
          ],
          [
           "Pneumonia",
           "Male"
          ],
          [
           "Klinefelter Syndrome",
           "Female"
          ],
          [
           "Asthma",
           "Male"
          ],
          [
           "Asthma",
           "Female"
          ],
          [
           "Asthma",
           "Female"
          ],
          [
           "Asthma",
           "Male"
          ],
          [
           "Asthma",
           "Male"
          ],
          [
           "Asthma",
           "Male"
          ],
          [
           "Chickenpox",
           "Male"
          ],
          [
           "Chickenpox",
           "Male"
          ],
          [
           "Coronary Artery Disease",
           "Female"
          ],
          [
           "Eating Disorders (Anorexia,...",
           "Female"
          ],
          [
           "Fibromyalgia",
           "Female"
          ],
          [
           "Gastroenteritis",
           "Male"
          ],
          [
           "Hemophilia",
           "Female"
          ],
          [
           "Hyperthyroidism",
           "Male"
          ],
          [
           "Hypoglycemia",
           "Female"
          ],
          [
           "Lymphoma",
           "Female"
          ],
          [
           "Pneumonia",
           "Female"
          ],
          [
           "Psoriasis",
           "Male"
          ],
          [
           "Psoriasis",
           "Male"
          ],
          [
           "Psoriasis",
           "Female"
          ],
          [
           "Tuberculosis",
           "Male"
          ],
          [
           "Tuberculosis",
           "Male"
          ],
          [
           "Diabetes",
           "Male"
          ],
          [
           "Hypothyroidism",
           "Female"
          ],
          [
           "Hypothyroidism",
           "Female"
          ],
          [
           "Kidney Disease",
           "Female"
          ],
          [
           "Pneumonia",
           "Female"
          ],
          [
           "Allergic Rhinitis",
           "Male"
          ],
          [
           "Anxiety Disorders",
           "Male"
          ],
          [
           "Asthma",
           "Male"
          ],
          [
           "Asthma",
           "Male"
          ],
          [
           "Cataracts",
           "Female"
          ],
          [
           "Crohn's Disease",
           "Female"
          ],
          [
           "Crohn's Disease",
           "Female"
          ],
          [
           "Depression",
           "Female"
          ],
          [
           "Diabetes",
           "Female"
          ],
          [
           "Diabetes",
           "Male"
          ],
          [
           "Hypertension",
           "Male"
          ],
          [
           "Hypothyroidism",
           "Female"
          ],
          [
           "Liver Disease",
           "Female"
          ],
          [
           "Multiple Sclerosis",
           "Female"
          ],
          [
           "Multiple Sclerosis",
           "Female"
          ],
          [
           "Osteoarthritis",
           "Male"
          ],
          [
           "Osteoporosis",
           "Female"
          ],
          [
           "Pneumocystis Pneumonia (PCP)",
           "Female"
          ],
          [
           "Pneumonia",
           "Male"
          ],
          [
           "Scoliosis",
           "Female"
          ],
          [
           "Sickle Cell Anemia",
           "Female"
          ],
          [
           "Tetanus",
           "Male"
          ],
          [
           "Tetanus",
           "Male"
          ],
          [
           "Asthma",
           "Female"
          ],
          [
           "Bronchitis",
           "Male"
          ],
          [
           "Down Syndrome",
           "Female"
          ],
          [
           "Ebola Virus",
           "Male"
          ],
          [
           "Ebola Virus",
           "Male"
          ],
          [
           "Eczema",
           "Female"
          ],
          [
           "Gastroenteritis",
           "Female"
          ],
          [
           "Klinefelter Syndrome",
           "Female"
          ],
          [
           "Liver Cancer",
           "Male"
          ],
          [
           "Lyme Disease",
           "Male"
          ],
          [
           "Lyme Disease",
           "Male"
          ],
          [
           "Pancreatic Cancer",
           "Female"
          ],
          [
           "Pneumothorax",
           "Female"
          ],
          [
           "Stroke",
           "Male"
          ],
          [
           "Ulcerative Colitis",
           "Female"
          ],
          [
           "Anxiety Disorders",
           "Female"
          ],
          [
           "Coronary Artery Disease",
           "Female"
          ],
          [
           "Coronary Artery Disease",
           "Female"
          ],
          [
           "Hemorrhoids",
           "Female"
          ],
          [
           "Hypertension",
           "Male"
          ],
          [
           "Hypothyroidism",
           "Female"
          ],
          [
           "Osteoarthritis",
           "Female"
          ],
          [
           "Osteoporosis",
           "Male"
          ],
          [
           "Osteoporosis",
           "Female"
          ],
          [
           "Osteoporosis",
           "Female"
          ],
          [
           "Osteoporosis",
           "Female"
          ],
          [
           "Polycystic Ovary Syndrome (PCOS)",
           "Female"
          ],
          [
           "Systemic Lupus Erythematosus...",
           "Female"
          ],
          [
           "Typhoid Fever",
           "Male"
          ],
          [
           "Typhoid Fever",
           "Male"
          ],
          [
           "Influenza",
           "Male"
          ],
          [
           "Asthma",
           "Female"
          ],
          [
           "Chronic Kidney Disease",
           "Female"
          ],
          [
           "Hemophilia",
           "Female"
          ],
          [
           "Hepatitis B",
           "Male"
          ],
          [
           "Hepatitis B",
           "Male"
          ],
          [
           "Hypertension",
           "Female"
          ],
          [
           "Hypertension",
           "Male"
          ],
          [
           "Hypertension",
           "Female"
          ],
          [
           "Kidney Cancer",
           "Female"
          ],
          [
           "Kidney Disease",
           "Female"
          ],
          [
           "Osteoporosis",
           "Male"
          ],
          [
           "Pancreatitis",
           "Female"
          ],
          [
           "Parkinson's Disease",
           "Male"
          ],
          [
           "Parkinson's Disease",
           "Male"
          ],
          [
           "Prader-Willi Syndrome",
           "Female"
          ],
          [
           "Rheumatoid Arthritis",
           "Female"
          ],
          [
           "Thyroid Cancer",
           "Female"
          ],
          [
           "Tuberculosis",
           "Female"
          ],
          [
           "Alzheimer's Disease",
           "Male"
          ],
          [
           "Alzheimer's Disease",
           "Male"
          ],
          [
           "Alzheimer's Disease",
           "Female"
          ],
          [
           "Bronchitis",
           "Male"
          ],
          [
           "Chronic Obstructive Pulmonary Disease (COPD)",
           "Female"
          ],
          [
           "Chronic Obstructive Pulmonary Disease (COPD)",
           "Female"
          ],
          [
           "Dementia",
           "Female"
          ],
          [
           "Diabetes",
           "Female"
          ],
          [
           "Diverticulitis",
           "Female"
          ],
          [
           "Liver Cancer",
           "Female"
          ],
          [
           "Lung Cancer",
           "Female"
          ],
          [
           "Lung Cancer",
           "Female"
          ],
          [
           "Mumps",
           "Male"
          ],
          [
           "Mumps",
           "Male"
          ],
          [
           "Osteoporosis",
           "Female"
          ],
          [
           "Stroke",
           "Female"
          ],
          [
           "Gout",
           "Female"
          ],
          [
           "Migraine",
           "Female"
          ],
          [
           "Stroke",
           "Male"
          ],
          [
           "Stroke",
           "Male"
          ],
          [
           "Testicular Cancer",
           "Female"
          ],
          [
           "Tonsillitis",
           "Female"
          ],
          [
           "Williams Syndrome",
           "Female"
          ],
          [
           "Stroke",
           "Female"
          ],
          [
           "Stroke",
           "Female"
          ],
          [
           "Stroke",
           "Male"
          ],
          [
           "Stroke",
           "Male"
          ],
          [
           "Stroke",
           "Female"
          ],
          [
           "Stroke",
           "Female"
          ]
         ],
         "hovertemplate": "Outcome Variable=Positive<br>Age (years)=%{x}<br>Blood Pressure Level=%{y}<br>Disease=%{customdata[0]}<br>Gender=%{customdata[1]}<extra></extra>",
         "legendgroup": "Positive",
         "marker": {
          "color": "#636efa",
          "symbol": "circle"
         },
         "mode": "markers",
         "name": "Positive",
         "orientation": "h",
         "showlegend": true,
         "type": "scatter",
         "x": [
          19,
          25,
          25,
          25,
          25,
          25,
          28,
          29,
          29,
          29,
          29,
          30,
          30,
          30,
          30,
          30,
          30,
          30,
          30,
          30,
          30,
          30,
          30,
          30,
          30,
          30,
          30,
          31,
          31,
          32,
          35,
          35,
          35,
          35,
          35,
          35,
          35,
          35,
          35,
          35,
          35,
          35,
          35,
          35,
          35,
          35,
          35,
          35,
          35,
          35,
          35,
          35,
          38,
          38,
          38,
          38,
          38,
          39,
          40,
          40,
          40,
          40,
          40,
          40,
          40,
          40,
          40,
          40,
          40,
          40,
          40,
          40,
          40,
          40,
          40,
          40,
          40,
          40,
          40,
          40,
          42,
          42,
          42,
          42,
          43,
          45,
          45,
          45,
          45,
          45,
          45,
          45,
          45,
          45,
          45,
          45,
          45,
          45,
          45,
          45,
          45,
          45,
          45,
          45,
          45,
          45,
          45,
          45,
          50,
          50,
          50,
          50,
          50,
          50,
          50,
          50,
          50,
          50,
          50,
          50,
          50,
          50,
          50,
          55,
          55,
          55,
          55,
          55,
          55,
          55,
          55,
          55,
          55,
          55,
          55,
          55,
          55,
          55,
          56,
          60,
          60,
          60,
          60,
          60,
          60,
          60,
          60,
          60,
          60,
          60,
          60,
          60,
          60,
          60,
          60,
          60,
          60,
          65,
          65,
          65,
          65,
          65,
          65,
          65,
          65,
          65,
          65,
          65,
          65,
          65,
          65,
          65,
          65,
          70,
          70,
          70,
          70,
          70,
          70,
          70,
          80,
          80,
          85,
          85,
          90,
          90
         ],
         "xaxis": "x",
         "y": [
          "Low",
          "Normal",
          "Normal",
          "Normal",
          "Normal",
          "Normal",
          "High",
          "High",
          "Normal",
          "Normal",
          "High",
          "Normal",
          "Normal",
          "Normal",
          "High",
          "Low",
          "High",
          "High",
          "Normal",
          "Normal",
          "High",
          "High",
          "High",
          "Normal",
          "High",
          "High",
          "Normal",
          "High",
          "Normal",
          "High",
          "Normal",
          "Normal",
          "Normal",
          "High",
          "Normal",
          "Low",
          "High",
          "High",
          "High",
          "High",
          "High",
          "High",
          "High",
          "High",
          "High",
          "Normal",
          "Normal",
          "Normal",
          "Normal",
          "High",
          "High",
          "Normal",
          "High",
          "High",
          "High",
          "High",
          "Normal",
          "Normal",
          "Low",
          "Normal",
          "Normal",
          "High",
          "Normal",
          "Normal",
          "Normal",
          "Normal",
          "High",
          "High",
          "High",
          "High",
          "Normal",
          "High",
          "High",
          "Normal",
          "Normal",
          "High",
          "High",
          "Normal",
          "High",
          "High",
          "High",
          "High",
          "High",
          "High",
          "High",
          "High",
          "High",
          "Normal",
          "Normal",
          "Normal",
          "High",
          "High",
          "High",
          "High",
          "Normal",
          "Normal",
          "High",
          "Normal",
          "High",
          "High",
          "High",
          "Normal",
          "High",
          "High",
          "High",
          "Normal",
          "Normal",
          "Normal",
          "Normal",
          "High",
          "High",
          "Normal",
          "Normal",
          "High",
          "High",
          "Normal",
          "High",
          "Normal",
          "Normal",
          "High",
          "High",
          "High",
          "Normal",
          "Normal",
          "Normal",
          "Normal",
          "High",
          "High",
          "High",
          "High",
          "High",
          "Normal",
          "Normal",
          "Normal",
          "Normal",
          "High",
          "Normal",
          "Normal",
          "High",
          "High",
          "Normal",
          "Normal",
          "Normal",
          "Normal",
          "High",
          "High",
          "High",
          "High",
          "High",
          "High",
          "High",
          "High",
          "High",
          "Normal",
          "High",
          "High",
          "High",
          "Normal",
          "Normal",
          "High",
          "High",
          "High",
          "High",
          "High",
          "Normal",
          "High",
          "High",
          "High",
          "Normal",
          "Normal",
          "Normal",
          "High",
          "High",
          "Normal",
          "Normal",
          "Normal",
          "Normal",
          "High",
          "High",
          "Normal",
          "High",
          "High",
          "High",
          "High",
          "High",
          "High"
         ],
         "yaxis": "y"
        },
        {
         "customdata": [
          [
           "Common Cold",
           "Female"
          ],
          [
           "Eczema",
           "Female"
          ],
          [
           "Hyperthyroidism",
           "Female"
          ],
          [
           "Hyperthyroidism",
           "Female"
          ],
          [
           "Allergic Rhinitis",
           "Female"
          ],
          [
           "Anxiety Disorders",
           "Female"
          ],
          [
           "Common Cold",
           "Female"
          ],
          [
           "Diabetes",
           "Male"
          ],
          [
           "Gastroenteritis",
           "Female"
          ],
          [
           "Pancreatitis",
           "Female"
          ],
          [
           "Rheumatoid Arthritis",
           "Female"
          ],
          [
           "Dengue Fever",
           "Female"
          ],
          [
           "Dengue Fever",
           "Female"
          ],
          [
           "Eczema",
           "Male"
          ],
          [
           "Gastroenteritis",
           "Male"
          ],
          [
           "Hepatitis",
           "Male"
          ],
          [
           "Kidney Cancer",
           "Male"
          ],
          [
           "Migraine",
           "Female"
          ],
          [
           "Migraine",
           "Female"
          ],
          [
           "Muscular Dystrophy",
           "Male"
          ],
          [
           "Sinusitis",
           "Male"
          ],
          [
           "Ulcerative Colitis",
           "Female"
          ],
          [
           "Ulcerative Colitis",
           "Female"
          ],
          [
           "Asthma",
           "Male"
          ],
          [
           "Osteoporosis",
           "Male"
          ],
          [
           "Allergic Rhinitis",
           "Female"
          ],
          [
           "Asthma",
           "Female"
          ],
          [
           "Asthma",
           "Female"
          ],
          [
           "Asthma",
           "Female"
          ],
          [
           "Asthma",
           "Female"
          ],
          [
           "Atherosclerosis",
           "Male"
          ],
          [
           "Chronic Obstructive Pulmonary...",
           "Male"
          ],
          [
           "Common Cold",
           "Male"
          ],
          [
           "Eczema",
           "Male"
          ],
          [
           "Epilepsy",
           "Male"
          ],
          [
           "Hypertension",
           "Female"
          ],
          [
           "Hyperthyroidism",
           "Female"
          ],
          [
           "Obsessive-Compulsive Disorde...",
           "Male"
          ],
          [
           "Pneumonia",
           "Female"
          ],
          [
           "Pneumonia",
           "Female"
          ],
          [
           "Psoriasis",
           "Female"
          ],
          [
           "Psoriasis",
           "Female"
          ],
          [
           "Rubella",
           "Female"
          ],
          [
           "Rubella",
           "Female"
          ],
          [
           "Urinary Tract Infection (UTI)",
           "Male"
          ],
          [
           "Allergic Rhinitis",
           "Female"
          ],
          [
           "Depression",
           "Female"
          ],
          [
           "Gastroenteritis",
           "Male"
          ],
          [
           "Influenza",
           "Male"
          ],
          [
           "Kidney Disease",
           "Female"
          ],
          [
           "Liver Cancer",
           "Female"
          ],
          [
           "Liver Disease",
           "Male"
          ],
          [
           "Osteoporosis",
           "Female"
          ],
          [
           "Stroke",
           "Female"
          ],
          [
           "Acne",
           "Male"
          ],
          [
           "Brain Tumor",
           "Male"
          ],
          [
           "Bronchitis",
           "Female"
          ],
          [
           "Cystic Fibrosis",
           "Male"
          ],
          [
           "Diabetes",
           "Female"
          ],
          [
           "Glaucoma",
           "Male"
          ],
          [
           "Osteoarthritis",
           "Male"
          ],
          [
           "Rabies",
           "Female"
          ],
          [
           "Rabies",
           "Female"
          ],
          [
           "Anxiety Disorders",
           "Male"
          ],
          [
           "Common Cold",
           "Female"
          ],
          [
           "Depression",
           "Male"
          ],
          [
           "Influenza",
           "Female"
          ],
          [
           "Kidney Cancer",
           "Female"
          ],
          [
           "Liver Cancer",
           "Male"
          ],
          [
           "Liver Disease",
           "Female"
          ],
          [
           "Lung Cancer",
           "Male"
          ],
          [
           "Migraine",
           "Male"
          ],
          [
           "Osteoarthritis",
           "Male"
          ],
          [
           "Stroke",
           "Male"
          ],
          [
           "Urinary Tract Infection",
           "Female"
          ],
          [
           "Allergic Rhinitis",
           "Male"
          ],
          [
           "Autism Spectrum Disorder (ASD)",
           "Male"
          ],
          [
           "Crohn's Disease",
           "Male"
          ],
          [
           "Hepatitis",
           "Female"
          ],
          [
           "Hepatitis",
           "Female"
          ],
          [
           "Hyperglycemia",
           "Male"
          ],
          [
           "Kidney Cancer",
           "Male"
          ],
          [
           "Kidney Disease",
           "Male"
          ],
          [
           "Melanoma",
           "Male"
          ],
          [
           "Migraine",
           "Female"
          ],
          [
           "Ovarian Cancer",
           "Male"
          ],
          [
           "Pancreatitis",
           "Male"
          ],
          [
           "Rheumatoid Arthritis",
           "Male"
          ],
          [
           "Stroke",
           "Male"
          ],
          [
           "Turner Syndrome",
           "Male"
          ],
          [
           "Turner Syndrome",
           "Male"
          ],
          [
           "Urinary Tract Infection",
           "Female"
          ],
          [
           "Zika Virus",
           "Female"
          ],
          [
           "Zika Virus",
           "Female"
          ],
          [
           "Hypertension",
           "Female"
          ],
          [
           "Hypothyroidism",
           "Male"
          ],
          [
           "Hypothyroidism",
           "Male"
          ],
          [
           "Allergic Rhinitis",
           "Male"
          ],
          [
           "Anemia",
           "Male"
          ],
          [
           "Anxiety Disorders",
           "Male"
          ],
          [
           "Cholera",
           "Female"
          ],
          [
           "Cholera",
           "Female"
          ],
          [
           "Crohn's Disease",
           "Male"
          ],
          [
           "Crohn's Disease",
           "Male"
          ],
          [
           "Depression",
           "Female"
          ],
          [
           "Diabetes",
           "Male"
          ],
          [
           "Endometriosis",
           "Male"
          ],
          [
           "Hypertension",
           "Female"
          ],
          [
           "Hypothyroidism",
           "Male"
          ],
          [
           "Kidney Cancer",
           "Male"
          ],
          [
           "Kidney Disease",
           "Male"
          ],
          [
           "Pancreatitis",
           "Male"
          ],
          [
           "Rheumatoid Arthritis",
           "Female"
          ],
          [
           "Sepsis",
           "Male"
          ],
          [
           "Sleep Apnea",
           "Male"
          ],
          [
           "Urinary Tract Infection",
           "Male"
          ],
          [
           "Hypertension",
           "Male"
          ],
          [
           "Multiple Sclerosis",
           "Male"
          ],
          [
           "Multiple Sclerosis",
           "Male"
          ],
          [
           "Appendicitis",
           "Male"
          ],
          [
           "Bronchitis",
           "Male"
          ],
          [
           "Bronchitis",
           "Male"
          ],
          [
           "Common Cold",
           "Male"
          ],
          [
           "Diabetes",
           "Female"
          ],
          [
           "Esophageal Cancer",
           "Male"
          ],
          [
           "HIV/AIDS",
           "Female"
          ],
          [
           "HIV/AIDS",
           "Female"
          ],
          [
           "Hypertension",
           "Female"
          ],
          [
           "Liver Disease",
           "Male"
          ],
          [
           "Marfan Syndrome",
           "Male"
          ],
          [
           "Migraine",
           "Female"
          ],
          [
           "Osteoporosis",
           "Male"
          ],
          [
           "Parkinson's Disease",
           "Female"
          ],
          [
           "Parkinson's Disease",
           "Female"
          ],
          [
           "Pneumonia",
           "Male"
          ],
          [
           "Breast Cancer",
           "Male"
          ],
          [
           "Coronary Artery Disease",
           "Male"
          ],
          [
           "Coronary Artery Disease",
           "Male"
          ],
          [
           "Hyperthyroidism",
           "Male"
          ],
          [
           "Measles",
           "Female"
          ],
          [
           "Measles",
           "Female"
          ],
          [
           "Osteoarthritis",
           "Female"
          ],
          [
           "Osteomyelitis",
           "Male"
          ],
          [
           "Osteoporosis",
           "Male"
          ],
          [
           "Osteoporosis",
           "Male"
          ],
          [
           "Osteoporosis",
           "Male"
          ],
          [
           "Polio",
           "Male"
          ],
          [
           "Bladder Cancer",
           "Male"
          ],
          [
           "Diabetes",
           "Male"
          ],
          [
           "Otitis Media (Ear Infection)",
           "Male"
          ],
          [
           "Stroke",
           "Female"
          ],
          [
           "Stroke",
           "Female"
          ],
          [
           "Tourette Syndrome",
           "Male"
          ],
          [
           "Urinary Tract Infection (UTI)",
           "Male"
          ],
          [
           "Alzheimer's Disease",
           "Female"
          ],
          [
           "Alzheimer's Disease",
           "Female"
          ],
          [
           "Cholecystitis",
           "Male"
          ],
          [
           "Chronic Obstructive Pulmonary Disease (COPD)",
           "Male"
          ],
          [
           "Chronic Obstructive Pulmonary Disease (COPD)",
           "Male"
          ],
          [
           "Osteoporosis",
           "Male"
          ],
          [
           "Parkinson's Disease",
           "Male"
          ],
          [
           "Prostate Cancer",
           "Male"
          ],
          [
           "Schizophrenia",
           "Male"
          ]
         ],
         "hovertemplate": "Outcome Variable=Negative<br>Age (years)=%{x}<br>Blood Pressure Level=%{y}<br>Disease=%{customdata[0]}<br>Gender=%{customdata[1]}<extra></extra>",
         "legendgroup": "Negative",
         "marker": {
          "color": "#EF553B",
          "symbol": "circle"
         },
         "mode": "markers",
         "name": "Negative",
         "orientation": "h",
         "showlegend": true,
         "type": "scatter",
         "x": [
          25,
          25,
          28,
          28,
          29,
          29,
          29,
          29,
          29,
          29,
          29,
          30,
          30,
          30,
          30,
          30,
          30,
          30,
          30,
          30,
          30,
          30,
          30,
          31,
          31,
          35,
          35,
          35,
          35,
          35,
          35,
          35,
          35,
          35,
          35,
          35,
          35,
          35,
          35,
          35,
          35,
          35,
          35,
          35,
          35,
          38,
          38,
          38,
          38,
          38,
          38,
          38,
          38,
          38,
          40,
          40,
          40,
          40,
          40,
          40,
          40,
          40,
          40,
          42,
          42,
          42,
          42,
          42,
          42,
          42,
          42,
          42,
          42,
          42,
          42,
          45,
          45,
          45,
          45,
          45,
          45,
          45,
          45,
          45,
          45,
          45,
          45,
          45,
          45,
          45,
          45,
          45,
          45,
          45,
          48,
          48,
          48,
          50,
          50,
          50,
          50,
          50,
          50,
          50,
          50,
          50,
          50,
          50,
          50,
          50,
          50,
          50,
          50,
          50,
          50,
          50,
          52,
          52,
          52,
          55,
          55,
          55,
          55,
          55,
          55,
          55,
          55,
          55,
          55,
          55,
          55,
          55,
          55,
          55,
          57,
          60,
          60,
          60,
          60,
          60,
          60,
          60,
          60,
          60,
          60,
          60,
          60,
          65,
          65,
          65,
          65,
          65,
          65,
          65,
          70,
          70,
          70,
          70,
          70,
          70,
          70,
          70,
          70
         ],
         "xaxis": "x",
         "y": [
          "Normal",
          "Normal",
          "Normal",
          "Normal",
          "Normal",
          "Normal",
          "Low",
          "Low",
          "Normal",
          "High",
          "High",
          "Normal",
          "Normal",
          "High",
          "High",
          "High",
          "Normal",
          "Normal",
          "Normal",
          "High",
          "Normal",
          "Normal",
          "Normal",
          "Normal",
          "Low",
          "Normal",
          "Normal",
          "Normal",
          "High",
          "High",
          "Normal",
          "Normal",
          "High",
          "High",
          "High",
          "High",
          "Normal",
          "Normal",
          "Normal",
          "Normal",
          "Normal",
          "Normal",
          "High",
          "High",
          "High",
          "Low",
          "Normal",
          "Normal",
          "Normal",
          "Low",
          "High",
          "Low",
          "Normal",
          "High",
          "Normal",
          "Normal",
          "Normal",
          "High",
          "High",
          "High",
          "High",
          "High",
          "High",
          "Low",
          "High",
          "High",
          "Normal",
          "Normal",
          "Normal",
          "Normal",
          "Normal",
          "High",
          "Normal",
          "Normal",
          "Normal",
          "High",
          "Normal",
          "High",
          "High",
          "High",
          "Normal",
          "Normal",
          "Normal",
          "High",
          "Low",
          "Normal",
          "Normal",
          "Normal",
          "Normal",
          "High",
          "High",
          "Low",
          "High",
          "High",
          "Low",
          "Normal",
          "Normal",
          "High",
          "Normal",
          "Normal",
          "High",
          "High",
          "Normal",
          "Normal",
          "Low",
          "Normal",
          "High",
          "Normal",
          "Normal",
          "Low",
          "Normal",
          "Low",
          "Low",
          "Normal",
          "High",
          "High",
          "Normal",
          "Normal",
          "Normal",
          "Normal",
          "High",
          "High",
          "Normal",
          "Normal",
          "Normal",
          "High",
          "High",
          "Normal",
          "High",
          "High",
          "Normal",
          "High",
          "Normal",
          "Normal",
          "Normal",
          "High",
          "High",
          "High",
          "Normal",
          "High",
          "High",
          "Normal",
          "Normal",
          "High",
          "High",
          "High",
          "Normal",
          "Normal",
          "Normal",
          "Normal",
          "High",
          "High",
          "High",
          "High",
          "High",
          "High",
          "Normal",
          "Normal",
          "Normal",
          "Normal",
          "Normal",
          "High",
          "Normal"
         ],
         "yaxis": "y"
        }
       ],
       "layout": {
        "hoverlabel": {
         "bgcolor": "orange",
         "font": {
          "size": 18
         }
        },
        "legend": {
         "title": {
          "text": "Outcome"
         },
         "tracegroupgap": 0
        },
        "template": {
         "data": {
          "bar": [
           {
            "error_x": {
             "color": "#2a3f5f"
            },
            "error_y": {
             "color": "#2a3f5f"
            },
            "marker": {
             "line": {
              "color": "#E5ECF6",
              "width": 0.5
             },
             "pattern": {
              "fillmode": "overlay",
              "size": 10,
              "solidity": 0.2
             }
            },
            "type": "bar"
           }
          ],
          "barpolar": [
           {
            "marker": {
             "line": {
              "color": "#E5ECF6",
              "width": 0.5
             },
             "pattern": {
              "fillmode": "overlay",
              "size": 10,
              "solidity": 0.2
             }
            },
            "type": "barpolar"
           }
          ],
          "carpet": [
           {
            "aaxis": {
             "endlinecolor": "#2a3f5f",
             "gridcolor": "white",
             "linecolor": "white",
             "minorgridcolor": "white",
             "startlinecolor": "#2a3f5f"
            },
            "baxis": {
             "endlinecolor": "#2a3f5f",
             "gridcolor": "white",
             "linecolor": "white",
             "minorgridcolor": "white",
             "startlinecolor": "#2a3f5f"
            },
            "type": "carpet"
           }
          ],
          "choropleth": [
           {
            "colorbar": {
             "outlinewidth": 0,
             "ticks": ""
            },
            "type": "choropleth"
           }
          ],
          "contour": [
           {
            "colorbar": {
             "outlinewidth": 0,
             "ticks": ""
            },
            "colorscale": [
             [
              0,
              "#0d0887"
             ],
             [
              0.1111111111111111,
              "#46039f"
             ],
             [
              0.2222222222222222,
              "#7201a8"
             ],
             [
              0.3333333333333333,
              "#9c179e"
             ],
             [
              0.4444444444444444,
              "#bd3786"
             ],
             [
              0.5555555555555556,
              "#d8576b"
             ],
             [
              0.6666666666666666,
              "#ed7953"
             ],
             [
              0.7777777777777778,
              "#fb9f3a"
             ],
             [
              0.8888888888888888,
              "#fdca26"
             ],
             [
              1,
              "#f0f921"
             ]
            ],
            "type": "contour"
           }
          ],
          "contourcarpet": [
           {
            "colorbar": {
             "outlinewidth": 0,
             "ticks": ""
            },
            "type": "contourcarpet"
           }
          ],
          "heatmap": [
           {
            "colorbar": {
             "outlinewidth": 0,
             "ticks": ""
            },
            "colorscale": [
             [
              0,
              "#0d0887"
             ],
             [
              0.1111111111111111,
              "#46039f"
             ],
             [
              0.2222222222222222,
              "#7201a8"
             ],
             [
              0.3333333333333333,
              "#9c179e"
             ],
             [
              0.4444444444444444,
              "#bd3786"
             ],
             [
              0.5555555555555556,
              "#d8576b"
             ],
             [
              0.6666666666666666,
              "#ed7953"
             ],
             [
              0.7777777777777778,
              "#fb9f3a"
             ],
             [
              0.8888888888888888,
              "#fdca26"
             ],
             [
              1,
              "#f0f921"
             ]
            ],
            "type": "heatmap"
           }
          ],
          "heatmapgl": [
           {
            "colorbar": {
             "outlinewidth": 0,
             "ticks": ""
            },
            "colorscale": [
             [
              0,
              "#0d0887"
             ],
             [
              0.1111111111111111,
              "#46039f"
             ],
             [
              0.2222222222222222,
              "#7201a8"
             ],
             [
              0.3333333333333333,
              "#9c179e"
             ],
             [
              0.4444444444444444,
              "#bd3786"
             ],
             [
              0.5555555555555556,
              "#d8576b"
             ],
             [
              0.6666666666666666,
              "#ed7953"
             ],
             [
              0.7777777777777778,
              "#fb9f3a"
             ],
             [
              0.8888888888888888,
              "#fdca26"
             ],
             [
              1,
              "#f0f921"
             ]
            ],
            "type": "heatmapgl"
           }
          ],
          "histogram": [
           {
            "marker": {
             "pattern": {
              "fillmode": "overlay",
              "size": 10,
              "solidity": 0.2
             }
            },
            "type": "histogram"
           }
          ],
          "histogram2d": [
           {
            "colorbar": {
             "outlinewidth": 0,
             "ticks": ""
            },
            "colorscale": [
             [
              0,
              "#0d0887"
             ],
             [
              0.1111111111111111,
              "#46039f"
             ],
             [
              0.2222222222222222,
              "#7201a8"
             ],
             [
              0.3333333333333333,
              "#9c179e"
             ],
             [
              0.4444444444444444,
              "#bd3786"
             ],
             [
              0.5555555555555556,
              "#d8576b"
             ],
             [
              0.6666666666666666,
              "#ed7953"
             ],
             [
              0.7777777777777778,
              "#fb9f3a"
             ],
             [
              0.8888888888888888,
              "#fdca26"
             ],
             [
              1,
              "#f0f921"
             ]
            ],
            "type": "histogram2d"
           }
          ],
          "histogram2dcontour": [
           {
            "colorbar": {
             "outlinewidth": 0,
             "ticks": ""
            },
            "colorscale": [
             [
              0,
              "#0d0887"
             ],
             [
              0.1111111111111111,
              "#46039f"
             ],
             [
              0.2222222222222222,
              "#7201a8"
             ],
             [
              0.3333333333333333,
              "#9c179e"
             ],
             [
              0.4444444444444444,
              "#bd3786"
             ],
             [
              0.5555555555555556,
              "#d8576b"
             ],
             [
              0.6666666666666666,
              "#ed7953"
             ],
             [
              0.7777777777777778,
              "#fb9f3a"
             ],
             [
              0.8888888888888888,
              "#fdca26"
             ],
             [
              1,
              "#f0f921"
             ]
            ],
            "type": "histogram2dcontour"
           }
          ],
          "mesh3d": [
           {
            "colorbar": {
             "outlinewidth": 0,
             "ticks": ""
            },
            "type": "mesh3d"
           }
          ],
          "parcoords": [
           {
            "line": {
             "colorbar": {
              "outlinewidth": 0,
              "ticks": ""
             }
            },
            "type": "parcoords"
           }
          ],
          "pie": [
           {
            "automargin": true,
            "type": "pie"
           }
          ],
          "scatter": [
           {
            "fillpattern": {
             "fillmode": "overlay",
             "size": 10,
             "solidity": 0.2
            },
            "type": "scatter"
           }
          ],
          "scatter3d": [
           {
            "line": {
             "colorbar": {
              "outlinewidth": 0,
              "ticks": ""
             }
            },
            "marker": {
             "colorbar": {
              "outlinewidth": 0,
              "ticks": ""
             }
            },
            "type": "scatter3d"
           }
          ],
          "scattercarpet": [
           {
            "marker": {
             "colorbar": {
              "outlinewidth": 0,
              "ticks": ""
             }
            },
            "type": "scattercarpet"
           }
          ],
          "scattergeo": [
           {
            "marker": {
             "colorbar": {
              "outlinewidth": 0,
              "ticks": ""
             }
            },
            "type": "scattergeo"
           }
          ],
          "scattergl": [
           {
            "marker": {
             "colorbar": {
              "outlinewidth": 0,
              "ticks": ""
             }
            },
            "type": "scattergl"
           }
          ],
          "scattermapbox": [
           {
            "marker": {
             "colorbar": {
              "outlinewidth": 0,
              "ticks": ""
             }
            },
            "type": "scattermapbox"
           }
          ],
          "scatterpolar": [
           {
            "marker": {
             "colorbar": {
              "outlinewidth": 0,
              "ticks": ""
             }
            },
            "type": "scatterpolar"
           }
          ],
          "scatterpolargl": [
           {
            "marker": {
             "colorbar": {
              "outlinewidth": 0,
              "ticks": ""
             }
            },
            "type": "scatterpolargl"
           }
          ],
          "scatterternary": [
           {
            "marker": {
             "colorbar": {
              "outlinewidth": 0,
              "ticks": ""
             }
            },
            "type": "scatterternary"
           }
          ],
          "surface": [
           {
            "colorbar": {
             "outlinewidth": 0,
             "ticks": ""
            },
            "colorscale": [
             [
              0,
              "#0d0887"
             ],
             [
              0.1111111111111111,
              "#46039f"
             ],
             [
              0.2222222222222222,
              "#7201a8"
             ],
             [
              0.3333333333333333,
              "#9c179e"
             ],
             [
              0.4444444444444444,
              "#bd3786"
             ],
             [
              0.5555555555555556,
              "#d8576b"
             ],
             [
              0.6666666666666666,
              "#ed7953"
             ],
             [
              0.7777777777777778,
              "#fb9f3a"
             ],
             [
              0.8888888888888888,
              "#fdca26"
             ],
             [
              1,
              "#f0f921"
             ]
            ],
            "type": "surface"
           }
          ],
          "table": [
           {
            "cells": {
             "fill": {
              "color": "#EBF0F8"
             },
             "line": {
              "color": "white"
             }
            },
            "header": {
             "fill": {
              "color": "#C8D4E3"
             },
             "line": {
              "color": "white"
             }
            },
            "type": "table"
           }
          ]
         },
         "layout": {
          "annotationdefaults": {
           "arrowcolor": "#2a3f5f",
           "arrowhead": 0,
           "arrowwidth": 1
          },
          "autotypenumbers": "strict",
          "coloraxis": {
           "colorbar": {
            "outlinewidth": 0,
            "ticks": ""
           }
          },
          "colorscale": {
           "diverging": [
            [
             0,
             "#8e0152"
            ],
            [
             0.1,
             "#c51b7d"
            ],
            [
             0.2,
             "#de77ae"
            ],
            [
             0.3,
             "#f1b6da"
            ],
            [
             0.4,
             "#fde0ef"
            ],
            [
             0.5,
             "#f7f7f7"
            ],
            [
             0.6,
             "#e6f5d0"
            ],
            [
             0.7,
             "#b8e186"
            ],
            [
             0.8,
             "#7fbc41"
            ],
            [
             0.9,
             "#4d9221"
            ],
            [
             1,
             "#276419"
            ]
           ],
           "sequential": [
            [
             0,
             "#0d0887"
            ],
            [
             0.1111111111111111,
             "#46039f"
            ],
            [
             0.2222222222222222,
             "#7201a8"
            ],
            [
             0.3333333333333333,
             "#9c179e"
            ],
            [
             0.4444444444444444,
             "#bd3786"
            ],
            [
             0.5555555555555556,
             "#d8576b"
            ],
            [
             0.6666666666666666,
             "#ed7953"
            ],
            [
             0.7777777777777778,
             "#fb9f3a"
            ],
            [
             0.8888888888888888,
             "#fdca26"
            ],
            [
             1,
             "#f0f921"
            ]
           ],
           "sequentialminus": [
            [
             0,
             "#0d0887"
            ],
            [
             0.1111111111111111,
             "#46039f"
            ],
            [
             0.2222222222222222,
             "#7201a8"
            ],
            [
             0.3333333333333333,
             "#9c179e"
            ],
            [
             0.4444444444444444,
             "#bd3786"
            ],
            [
             0.5555555555555556,
             "#d8576b"
            ],
            [
             0.6666666666666666,
             "#ed7953"
            ],
            [
             0.7777777777777778,
             "#fb9f3a"
            ],
            [
             0.8888888888888888,
             "#fdca26"
            ],
            [
             1,
             "#f0f921"
            ]
           ]
          },
          "colorway": [
           "#636efa",
           "#EF553B",
           "#00cc96",
           "#ab63fa",
           "#FFA15A",
           "#19d3f3",
           "#FF6692",
           "#B6E880",
           "#FF97FF",
           "#FECB52"
          ],
          "font": {
           "color": "#2a3f5f"
          },
          "geo": {
           "bgcolor": "white",
           "lakecolor": "white",
           "landcolor": "#E5ECF6",
           "showlakes": true,
           "showland": true,
           "subunitcolor": "white"
          },
          "hoverlabel": {
           "align": "left"
          },
          "hovermode": "closest",
          "mapbox": {
           "style": "light"
          },
          "paper_bgcolor": "white",
          "plot_bgcolor": "#E5ECF6",
          "polar": {
           "angularaxis": {
            "gridcolor": "white",
            "linecolor": "white",
            "ticks": ""
           },
           "bgcolor": "#E5ECF6",
           "radialaxis": {
            "gridcolor": "white",
            "linecolor": "white",
            "ticks": ""
           }
          },
          "scene": {
           "xaxis": {
            "backgroundcolor": "#E5ECF6",
            "gridcolor": "white",
            "gridwidth": 2,
            "linecolor": "white",
            "showbackground": true,
            "ticks": "",
            "zerolinecolor": "white"
           },
           "yaxis": {
            "backgroundcolor": "#E5ECF6",
            "gridcolor": "white",
            "gridwidth": 2,
            "linecolor": "white",
            "showbackground": true,
            "ticks": "",
            "zerolinecolor": "white"
           },
           "zaxis": {
            "backgroundcolor": "#E5ECF6",
            "gridcolor": "white",
            "gridwidth": 2,
            "linecolor": "white",
            "showbackground": true,
            "ticks": "",
            "zerolinecolor": "white"
           }
          },
          "shapedefaults": {
           "line": {
            "color": "#2a3f5f"
           }
          },
          "ternary": {
           "aaxis": {
            "gridcolor": "white",
            "linecolor": "white",
            "ticks": ""
           },
           "baxis": {
            "gridcolor": "white",
            "linecolor": "white",
            "ticks": ""
           },
           "bgcolor": "#E5ECF6",
           "caxis": {
            "gridcolor": "white",
            "linecolor": "white",
            "ticks": ""
           }
          },
          "title": {
           "x": 0.05
          },
          "xaxis": {
           "automargin": true,
           "gridcolor": "white",
           "linecolor": "white",
           "ticks": "",
           "title": {
            "standoff": 15
           },
           "zerolinecolor": "white",
           "zerolinewidth": 2
          },
          "yaxis": {
           "automargin": true,
           "gridcolor": "white",
           "linecolor": "white",
           "ticks": "",
           "title": {
            "standoff": 15
           },
           "zerolinecolor": "white",
           "zerolinewidth": 2
          }
         }
        },
        "title": {
         "text": "Interactive Plot of Age vs. Blood Pressure"
        },
        "xaxis": {
         "anchor": "y",
         "domain": [
          0,
          1
         ],
         "title": {
          "text": "Age (years)"
         }
        },
        "yaxis": {
         "anchor": "x",
         "domain": [
          0,
          1
         ],
         "title": {
          "text": "Blood Pressure Level"
         }
        }
       }
      },
      "text/html": [
       "<div>                            <div id=\"df5c6d12-c1e3-498c-ac92-71672f1ce1d2\" class=\"plotly-graph-div\" style=\"height:525px; width:100%;\"></div>            <script type=\"text/javascript\">                require([\"plotly\"], function(Plotly) {                    window.PLOTLYENV=window.PLOTLYENV || {};                                    if (document.getElementById(\"df5c6d12-c1e3-498c-ac92-71672f1ce1d2\")) {                    Plotly.newPlot(                        \"df5c6d12-c1e3-498c-ac92-71672f1ce1d2\",                        [{\"customdata\":[[\"Influenza\",\"Female\"],[\"Asthma\",\"Male\"],[\"Asthma\",\"Male\"],[\"Eczema\",\"Female\"],[\"Influenza\",\"Female\"],[\"Influenza\",\"Female\"],[\"Asthma\",\"Male\"],[\"Depression\",\"Male\"],[\"Liver Cancer\",\"Female\"],[\"Stroke\",\"Female\"],[\"Urinary Tract Infection\",\"Male\"],[\"Asthma\",\"Female\"],[\"Asthma\",\"Female\"],[\"Asthma\",\"Female\"],[\"Bipolar Disorder\",\"Female\"],[\"Bronchitis\",\"Female\"],[\"Bronchitis\",\"Male\"],[\"Bronchitis\",\"Male\"],[\"Cerebral Palsy\",\"Female\"],[\"Colorectal Cancer\",\"Female\"],[\"Eczema\",\"Male\"],[\"Hypertensive Heart Disease\",\"Female\"],[\"Influenza\",\"Male\"],[\"Influenza\",\"Female\"],[\"Multiple Sclerosis\",\"Female\"],[\"Myocardial Infarction (Heart...\",\"Female\"],[\"Urinary Tract Infection (UTI)\",\"Female\"],[\"Common Cold\",\"Male\"],[\"Migraine\",\"Female\"],[\"Pneumonia\",\"Female\"],[\"Asthma\",\"Male\"],[\"Asthma\",\"Male\"],[\"Cirrhosis\",\"Female\"],[\"Conjunctivitis (Pink Eye)\",\"Female\"],[\"Depression\",\"Female\"],[\"Gastroenteritis\",\"Male\"],[\"Hyperthyroidism\",\"Male\"],[\"Hyperthyroidism\",\"Male\"],[\"Kidney Cancer\",\"Male\"],[\"Liver Cancer\",\"Female\"],[\"Liver Disease\",\"Male\"],[\"Malaria\",\"Male\"],[\"Malaria\",\"Male\"],[\"Migraine\",\"Male\"],[\"Migraine\",\"Male\"],[\"Pancreatitis\",\"Male\"],[\"Rheumatoid Arthritis\",\"Male\"],[\"Rheumatoid Arthritis\",\"Female\"],[\"Spina Bifida\",\"Female\"],[\"Ulcerative Colitis\",\"Male\"],[\"Ulcerative Colitis\",\"Male\"],[\"Urinary Tract Infection\",\"Female\"],[\"Anxiety Disorders\",\"Male\"],[\"Diabetes\",\"Male\"],[\"Migraine\",\"Male\"],[\"Osteoarthritis\",\"Male\"],[\"Pneumonia\",\"Male\"],[\"Klinefelter Syndrome\",\"Female\"],[\"Asthma\",\"Male\"],[\"Asthma\",\"Female\"],[\"Asthma\",\"Female\"],[\"Asthma\",\"Male\"],[\"Asthma\",\"Male\"],[\"Asthma\",\"Male\"],[\"Chickenpox\",\"Male\"],[\"Chickenpox\",\"Male\"],[\"Coronary Artery Disease\",\"Female\"],[\"Eating Disorders (Anorexia,...\",\"Female\"],[\"Fibromyalgia\",\"Female\"],[\"Gastroenteritis\",\"Male\"],[\"Hemophilia\",\"Female\"],[\"Hyperthyroidism\",\"Male\"],[\"Hypoglycemia\",\"Female\"],[\"Lymphoma\",\"Female\"],[\"Pneumonia\",\"Female\"],[\"Psoriasis\",\"Male\"],[\"Psoriasis\",\"Male\"],[\"Psoriasis\",\"Female\"],[\"Tuberculosis\",\"Male\"],[\"Tuberculosis\",\"Male\"],[\"Diabetes\",\"Male\"],[\"Hypothyroidism\",\"Female\"],[\"Hypothyroidism\",\"Female\"],[\"Kidney Disease\",\"Female\"],[\"Pneumonia\",\"Female\"],[\"Allergic Rhinitis\",\"Male\"],[\"Anxiety Disorders\",\"Male\"],[\"Asthma\",\"Male\"],[\"Asthma\",\"Male\"],[\"Cataracts\",\"Female\"],[\"Crohn's Disease\",\"Female\"],[\"Crohn's Disease\",\"Female\"],[\"Depression\",\"Female\"],[\"Diabetes\",\"Female\"],[\"Diabetes\",\"Male\"],[\"Hypertension\",\"Male\"],[\"Hypothyroidism\",\"Female\"],[\"Liver Disease\",\"Female\"],[\"Multiple Sclerosis\",\"Female\"],[\"Multiple Sclerosis\",\"Female\"],[\"Osteoarthritis\",\"Male\"],[\"Osteoporosis\",\"Female\"],[\"Pneumocystis Pneumonia (PCP)\",\"Female\"],[\"Pneumonia\",\"Male\"],[\"Scoliosis\",\"Female\"],[\"Sickle Cell Anemia\",\"Female\"],[\"Tetanus\",\"Male\"],[\"Tetanus\",\"Male\"],[\"Asthma\",\"Female\"],[\"Bronchitis\",\"Male\"],[\"Down Syndrome\",\"Female\"],[\"Ebola Virus\",\"Male\"],[\"Ebola Virus\",\"Male\"],[\"Eczema\",\"Female\"],[\"Gastroenteritis\",\"Female\"],[\"Klinefelter Syndrome\",\"Female\"],[\"Liver Cancer\",\"Male\"],[\"Lyme Disease\",\"Male\"],[\"Lyme Disease\",\"Male\"],[\"Pancreatic Cancer\",\"Female\"],[\"Pneumothorax\",\"Female\"],[\"Stroke\",\"Male\"],[\"Ulcerative Colitis\",\"Female\"],[\"Anxiety Disorders\",\"Female\"],[\"Coronary Artery Disease\",\"Female\"],[\"Coronary Artery Disease\",\"Female\"],[\"Hemorrhoids\",\"Female\"],[\"Hypertension\",\"Male\"],[\"Hypothyroidism\",\"Female\"],[\"Osteoarthritis\",\"Female\"],[\"Osteoporosis\",\"Male\"],[\"Osteoporosis\",\"Female\"],[\"Osteoporosis\",\"Female\"],[\"Osteoporosis\",\"Female\"],[\"Polycystic Ovary Syndrome (PCOS)\",\"Female\"],[\"Systemic Lupus Erythematosus...\",\"Female\"],[\"Typhoid Fever\",\"Male\"],[\"Typhoid Fever\",\"Male\"],[\"Influenza\",\"Male\"],[\"Asthma\",\"Female\"],[\"Chronic Kidney Disease\",\"Female\"],[\"Hemophilia\",\"Female\"],[\"Hepatitis B\",\"Male\"],[\"Hepatitis B\",\"Male\"],[\"Hypertension\",\"Female\"],[\"Hypertension\",\"Male\"],[\"Hypertension\",\"Female\"],[\"Kidney Cancer\",\"Female\"],[\"Kidney Disease\",\"Female\"],[\"Osteoporosis\",\"Male\"],[\"Pancreatitis\",\"Female\"],[\"Parkinson's Disease\",\"Male\"],[\"Parkinson's Disease\",\"Male\"],[\"Prader-Willi Syndrome\",\"Female\"],[\"Rheumatoid Arthritis\",\"Female\"],[\"Thyroid Cancer\",\"Female\"],[\"Tuberculosis\",\"Female\"],[\"Alzheimer's Disease\",\"Male\"],[\"Alzheimer's Disease\",\"Male\"],[\"Alzheimer's Disease\",\"Female\"],[\"Bronchitis\",\"Male\"],[\"Chronic Obstructive Pulmonary Disease (COPD)\",\"Female\"],[\"Chronic Obstructive Pulmonary Disease (COPD)\",\"Female\"],[\"Dementia\",\"Female\"],[\"Diabetes\",\"Female\"],[\"Diverticulitis\",\"Female\"],[\"Liver Cancer\",\"Female\"],[\"Lung Cancer\",\"Female\"],[\"Lung Cancer\",\"Female\"],[\"Mumps\",\"Male\"],[\"Mumps\",\"Male\"],[\"Osteoporosis\",\"Female\"],[\"Stroke\",\"Female\"],[\"Gout\",\"Female\"],[\"Migraine\",\"Female\"],[\"Stroke\",\"Male\"],[\"Stroke\",\"Male\"],[\"Testicular Cancer\",\"Female\"],[\"Tonsillitis\",\"Female\"],[\"Williams Syndrome\",\"Female\"],[\"Stroke\",\"Female\"],[\"Stroke\",\"Female\"],[\"Stroke\",\"Male\"],[\"Stroke\",\"Male\"],[\"Stroke\",\"Female\"],[\"Stroke\",\"Female\"]],\"hovertemplate\":\"Outcome Variable=Positive<br>Age (years)=%{x}<br>Blood Pressure Level=%{y}<br>Disease=%{customdata[0]}<br>Gender=%{customdata[1]}<extra></extra>\",\"legendgroup\":\"Positive\",\"marker\":{\"color\":\"#636efa\",\"symbol\":\"circle\"},\"mode\":\"markers\",\"name\":\"Positive\",\"orientation\":\"h\",\"showlegend\":true,\"x\":[19,25,25,25,25,25,28,29,29,29,29,30,30,30,30,30,30,30,30,30,30,30,30,30,30,30,30,31,31,32,35,35,35,35,35,35,35,35,35,35,35,35,35,35,35,35,35,35,35,35,35,35,38,38,38,38,38,39,40,40,40,40,40,40,40,40,40,40,40,40,40,40,40,40,40,40,40,40,40,40,42,42,42,42,43,45,45,45,45,45,45,45,45,45,45,45,45,45,45,45,45,45,45,45,45,45,45,45,50,50,50,50,50,50,50,50,50,50,50,50,50,50,50,55,55,55,55,55,55,55,55,55,55,55,55,55,55,55,56,60,60,60,60,60,60,60,60,60,60,60,60,60,60,60,60,60,60,65,65,65,65,65,65,65,65,65,65,65,65,65,65,65,65,70,70,70,70,70,70,70,80,80,85,85,90,90],\"xaxis\":\"x\",\"y\":[\"Low\",\"Normal\",\"Normal\",\"Normal\",\"Normal\",\"Normal\",\"High\",\"High\",\"Normal\",\"Normal\",\"High\",\"Normal\",\"Normal\",\"Normal\",\"High\",\"Low\",\"High\",\"High\",\"Normal\",\"Normal\",\"High\",\"High\",\"High\",\"Normal\",\"High\",\"High\",\"Normal\",\"High\",\"Normal\",\"High\",\"Normal\",\"Normal\",\"Normal\",\"High\",\"Normal\",\"Low\",\"High\",\"High\",\"High\",\"High\",\"High\",\"High\",\"High\",\"High\",\"High\",\"Normal\",\"Normal\",\"Normal\",\"Normal\",\"High\",\"High\",\"Normal\",\"High\",\"High\",\"High\",\"High\",\"Normal\",\"Normal\",\"Low\",\"Normal\",\"Normal\",\"High\",\"Normal\",\"Normal\",\"Normal\",\"Normal\",\"High\",\"High\",\"High\",\"High\",\"Normal\",\"High\",\"High\",\"Normal\",\"Normal\",\"High\",\"High\",\"Normal\",\"High\",\"High\",\"High\",\"High\",\"High\",\"High\",\"High\",\"High\",\"High\",\"Normal\",\"Normal\",\"Normal\",\"High\",\"High\",\"High\",\"High\",\"Normal\",\"Normal\",\"High\",\"Normal\",\"High\",\"High\",\"High\",\"Normal\",\"High\",\"High\",\"High\",\"Normal\",\"Normal\",\"Normal\",\"Normal\",\"High\",\"High\",\"Normal\",\"Normal\",\"High\",\"High\",\"Normal\",\"High\",\"Normal\",\"Normal\",\"High\",\"High\",\"High\",\"Normal\",\"Normal\",\"Normal\",\"Normal\",\"High\",\"High\",\"High\",\"High\",\"High\",\"Normal\",\"Normal\",\"Normal\",\"Normal\",\"High\",\"Normal\",\"Normal\",\"High\",\"High\",\"Normal\",\"Normal\",\"Normal\",\"Normal\",\"High\",\"High\",\"High\",\"High\",\"High\",\"High\",\"High\",\"High\",\"High\",\"Normal\",\"High\",\"High\",\"High\",\"Normal\",\"Normal\",\"High\",\"High\",\"High\",\"High\",\"High\",\"Normal\",\"High\",\"High\",\"High\",\"Normal\",\"Normal\",\"Normal\",\"High\",\"High\",\"Normal\",\"Normal\",\"Normal\",\"Normal\",\"High\",\"High\",\"Normal\",\"High\",\"High\",\"High\",\"High\",\"High\",\"High\"],\"yaxis\":\"y\",\"type\":\"scatter\"},{\"customdata\":[[\"Common Cold\",\"Female\"],[\"Eczema\",\"Female\"],[\"Hyperthyroidism\",\"Female\"],[\"Hyperthyroidism\",\"Female\"],[\"Allergic Rhinitis\",\"Female\"],[\"Anxiety Disorders\",\"Female\"],[\"Common Cold\",\"Female\"],[\"Diabetes\",\"Male\"],[\"Gastroenteritis\",\"Female\"],[\"Pancreatitis\",\"Female\"],[\"Rheumatoid Arthritis\",\"Female\"],[\"Dengue Fever\",\"Female\"],[\"Dengue Fever\",\"Female\"],[\"Eczema\",\"Male\"],[\"Gastroenteritis\",\"Male\"],[\"Hepatitis\",\"Male\"],[\"Kidney Cancer\",\"Male\"],[\"Migraine\",\"Female\"],[\"Migraine\",\"Female\"],[\"Muscular Dystrophy\",\"Male\"],[\"Sinusitis\",\"Male\"],[\"Ulcerative Colitis\",\"Female\"],[\"Ulcerative Colitis\",\"Female\"],[\"Asthma\",\"Male\"],[\"Osteoporosis\",\"Male\"],[\"Allergic Rhinitis\",\"Female\"],[\"Asthma\",\"Female\"],[\"Asthma\",\"Female\"],[\"Asthma\",\"Female\"],[\"Asthma\",\"Female\"],[\"Atherosclerosis\",\"Male\"],[\"Chronic Obstructive Pulmonary...\",\"Male\"],[\"Common Cold\",\"Male\"],[\"Eczema\",\"Male\"],[\"Epilepsy\",\"Male\"],[\"Hypertension\",\"Female\"],[\"Hyperthyroidism\",\"Female\"],[\"Obsessive-Compulsive Disorde...\",\"Male\"],[\"Pneumonia\",\"Female\"],[\"Pneumonia\",\"Female\"],[\"Psoriasis\",\"Female\"],[\"Psoriasis\",\"Female\"],[\"Rubella\",\"Female\"],[\"Rubella\",\"Female\"],[\"Urinary Tract Infection (UTI)\",\"Male\"],[\"Allergic Rhinitis\",\"Female\"],[\"Depression\",\"Female\"],[\"Gastroenteritis\",\"Male\"],[\"Influenza\",\"Male\"],[\"Kidney Disease\",\"Female\"],[\"Liver Cancer\",\"Female\"],[\"Liver Disease\",\"Male\"],[\"Osteoporosis\",\"Female\"],[\"Stroke\",\"Female\"],[\"Acne\",\"Male\"],[\"Brain Tumor\",\"Male\"],[\"Bronchitis\",\"Female\"],[\"Cystic Fibrosis\",\"Male\"],[\"Diabetes\",\"Female\"],[\"Glaucoma\",\"Male\"],[\"Osteoarthritis\",\"Male\"],[\"Rabies\",\"Female\"],[\"Rabies\",\"Female\"],[\"Anxiety Disorders\",\"Male\"],[\"Common Cold\",\"Female\"],[\"Depression\",\"Male\"],[\"Influenza\",\"Female\"],[\"Kidney Cancer\",\"Female\"],[\"Liver Cancer\",\"Male\"],[\"Liver Disease\",\"Female\"],[\"Lung Cancer\",\"Male\"],[\"Migraine\",\"Male\"],[\"Osteoarthritis\",\"Male\"],[\"Stroke\",\"Male\"],[\"Urinary Tract Infection\",\"Female\"],[\"Allergic Rhinitis\",\"Male\"],[\"Autism Spectrum Disorder (ASD)\",\"Male\"],[\"Crohn's Disease\",\"Male\"],[\"Hepatitis\",\"Female\"],[\"Hepatitis\",\"Female\"],[\"Hyperglycemia\",\"Male\"],[\"Kidney Cancer\",\"Male\"],[\"Kidney Disease\",\"Male\"],[\"Melanoma\",\"Male\"],[\"Migraine\",\"Female\"],[\"Ovarian Cancer\",\"Male\"],[\"Pancreatitis\",\"Male\"],[\"Rheumatoid Arthritis\",\"Male\"],[\"Stroke\",\"Male\"],[\"Turner Syndrome\",\"Male\"],[\"Turner Syndrome\",\"Male\"],[\"Urinary Tract Infection\",\"Female\"],[\"Zika Virus\",\"Female\"],[\"Zika Virus\",\"Female\"],[\"Hypertension\",\"Female\"],[\"Hypothyroidism\",\"Male\"],[\"Hypothyroidism\",\"Male\"],[\"Allergic Rhinitis\",\"Male\"],[\"Anemia\",\"Male\"],[\"Anxiety Disorders\",\"Male\"],[\"Cholera\",\"Female\"],[\"Cholera\",\"Female\"],[\"Crohn's Disease\",\"Male\"],[\"Crohn's Disease\",\"Male\"],[\"Depression\",\"Female\"],[\"Diabetes\",\"Male\"],[\"Endometriosis\",\"Male\"],[\"Hypertension\",\"Female\"],[\"Hypothyroidism\",\"Male\"],[\"Kidney Cancer\",\"Male\"],[\"Kidney Disease\",\"Male\"],[\"Pancreatitis\",\"Male\"],[\"Rheumatoid Arthritis\",\"Female\"],[\"Sepsis\",\"Male\"],[\"Sleep Apnea\",\"Male\"],[\"Urinary Tract Infection\",\"Male\"],[\"Hypertension\",\"Male\"],[\"Multiple Sclerosis\",\"Male\"],[\"Multiple Sclerosis\",\"Male\"],[\"Appendicitis\",\"Male\"],[\"Bronchitis\",\"Male\"],[\"Bronchitis\",\"Male\"],[\"Common Cold\",\"Male\"],[\"Diabetes\",\"Female\"],[\"Esophageal Cancer\",\"Male\"],[\"HIV/AIDS\",\"Female\"],[\"HIV/AIDS\",\"Female\"],[\"Hypertension\",\"Female\"],[\"Liver Disease\",\"Male\"],[\"Marfan Syndrome\",\"Male\"],[\"Migraine\",\"Female\"],[\"Osteoporosis\",\"Male\"],[\"Parkinson's Disease\",\"Female\"],[\"Parkinson's Disease\",\"Female\"],[\"Pneumonia\",\"Male\"],[\"Breast Cancer\",\"Male\"],[\"Coronary Artery Disease\",\"Male\"],[\"Coronary Artery Disease\",\"Male\"],[\"Hyperthyroidism\",\"Male\"],[\"Measles\",\"Female\"],[\"Measles\",\"Female\"],[\"Osteoarthritis\",\"Female\"],[\"Osteomyelitis\",\"Male\"],[\"Osteoporosis\",\"Male\"],[\"Osteoporosis\",\"Male\"],[\"Osteoporosis\",\"Male\"],[\"Polio\",\"Male\"],[\"Bladder Cancer\",\"Male\"],[\"Diabetes\",\"Male\"],[\"Otitis Media (Ear Infection)\",\"Male\"],[\"Stroke\",\"Female\"],[\"Stroke\",\"Female\"],[\"Tourette Syndrome\",\"Male\"],[\"Urinary Tract Infection (UTI)\",\"Male\"],[\"Alzheimer's Disease\",\"Female\"],[\"Alzheimer's Disease\",\"Female\"],[\"Cholecystitis\",\"Male\"],[\"Chronic Obstructive Pulmonary Disease (COPD)\",\"Male\"],[\"Chronic Obstructive Pulmonary Disease (COPD)\",\"Male\"],[\"Osteoporosis\",\"Male\"],[\"Parkinson's Disease\",\"Male\"],[\"Prostate Cancer\",\"Male\"],[\"Schizophrenia\",\"Male\"]],\"hovertemplate\":\"Outcome Variable=Negative<br>Age (years)=%{x}<br>Blood Pressure Level=%{y}<br>Disease=%{customdata[0]}<br>Gender=%{customdata[1]}<extra></extra>\",\"legendgroup\":\"Negative\",\"marker\":{\"color\":\"#EF553B\",\"symbol\":\"circle\"},\"mode\":\"markers\",\"name\":\"Negative\",\"orientation\":\"h\",\"showlegend\":true,\"x\":[25,25,28,28,29,29,29,29,29,29,29,30,30,30,30,30,30,30,30,30,30,30,30,31,31,35,35,35,35,35,35,35,35,35,35,35,35,35,35,35,35,35,35,35,35,38,38,38,38,38,38,38,38,38,40,40,40,40,40,40,40,40,40,42,42,42,42,42,42,42,42,42,42,42,42,45,45,45,45,45,45,45,45,45,45,45,45,45,45,45,45,45,45,45,48,48,48,50,50,50,50,50,50,50,50,50,50,50,50,50,50,50,50,50,50,50,52,52,52,55,55,55,55,55,55,55,55,55,55,55,55,55,55,55,57,60,60,60,60,60,60,60,60,60,60,60,60,65,65,65,65,65,65,65,70,70,70,70,70,70,70,70,70],\"xaxis\":\"x\",\"y\":[\"Normal\",\"Normal\",\"Normal\",\"Normal\",\"Normal\",\"Normal\",\"Low\",\"Low\",\"Normal\",\"High\",\"High\",\"Normal\",\"Normal\",\"High\",\"High\",\"High\",\"Normal\",\"Normal\",\"Normal\",\"High\",\"Normal\",\"Normal\",\"Normal\",\"Normal\",\"Low\",\"Normal\",\"Normal\",\"Normal\",\"High\",\"High\",\"Normal\",\"Normal\",\"High\",\"High\",\"High\",\"High\",\"Normal\",\"Normal\",\"Normal\",\"Normal\",\"Normal\",\"Normal\",\"High\",\"High\",\"High\",\"Low\",\"Normal\",\"Normal\",\"Normal\",\"Low\",\"High\",\"Low\",\"Normal\",\"High\",\"Normal\",\"Normal\",\"Normal\",\"High\",\"High\",\"High\",\"High\",\"High\",\"High\",\"Low\",\"High\",\"High\",\"Normal\",\"Normal\",\"Normal\",\"Normal\",\"Normal\",\"High\",\"Normal\",\"Normal\",\"Normal\",\"High\",\"Normal\",\"High\",\"High\",\"High\",\"Normal\",\"Normal\",\"Normal\",\"High\",\"Low\",\"Normal\",\"Normal\",\"Normal\",\"Normal\",\"High\",\"High\",\"Low\",\"High\",\"High\",\"Low\",\"Normal\",\"Normal\",\"High\",\"Normal\",\"Normal\",\"High\",\"High\",\"Normal\",\"Normal\",\"Low\",\"Normal\",\"High\",\"Normal\",\"Normal\",\"Low\",\"Normal\",\"Low\",\"Low\",\"Normal\",\"High\",\"High\",\"Normal\",\"Normal\",\"Normal\",\"Normal\",\"High\",\"High\",\"Normal\",\"Normal\",\"Normal\",\"High\",\"High\",\"Normal\",\"High\",\"High\",\"Normal\",\"High\",\"Normal\",\"Normal\",\"Normal\",\"High\",\"High\",\"High\",\"Normal\",\"High\",\"High\",\"Normal\",\"Normal\",\"High\",\"High\",\"High\",\"Normal\",\"Normal\",\"Normal\",\"Normal\",\"High\",\"High\",\"High\",\"High\",\"High\",\"High\",\"Normal\",\"Normal\",\"Normal\",\"Normal\",\"Normal\",\"High\",\"Normal\"],\"yaxis\":\"y\",\"type\":\"scatter\"}],                        {\"template\":{\"data\":{\"histogram2dcontour\":[{\"type\":\"histogram2dcontour\",\"colorbar\":{\"outlinewidth\":0,\"ticks\":\"\"},\"colorscale\":[[0.0,\"#0d0887\"],[0.1111111111111111,\"#46039f\"],[0.2222222222222222,\"#7201a8\"],[0.3333333333333333,\"#9c179e\"],[0.4444444444444444,\"#bd3786\"],[0.5555555555555556,\"#d8576b\"],[0.6666666666666666,\"#ed7953\"],[0.7777777777777778,\"#fb9f3a\"],[0.8888888888888888,\"#fdca26\"],[1.0,\"#f0f921\"]]}],\"choropleth\":[{\"type\":\"choropleth\",\"colorbar\":{\"outlinewidth\":0,\"ticks\":\"\"}}],\"histogram2d\":[{\"type\":\"histogram2d\",\"colorbar\":{\"outlinewidth\":0,\"ticks\":\"\"},\"colorscale\":[[0.0,\"#0d0887\"],[0.1111111111111111,\"#46039f\"],[0.2222222222222222,\"#7201a8\"],[0.3333333333333333,\"#9c179e\"],[0.4444444444444444,\"#bd3786\"],[0.5555555555555556,\"#d8576b\"],[0.6666666666666666,\"#ed7953\"],[0.7777777777777778,\"#fb9f3a\"],[0.8888888888888888,\"#fdca26\"],[1.0,\"#f0f921\"]]}],\"heatmap\":[{\"type\":\"heatmap\",\"colorbar\":{\"outlinewidth\":0,\"ticks\":\"\"},\"colorscale\":[[0.0,\"#0d0887\"],[0.1111111111111111,\"#46039f\"],[0.2222222222222222,\"#7201a8\"],[0.3333333333333333,\"#9c179e\"],[0.4444444444444444,\"#bd3786\"],[0.5555555555555556,\"#d8576b\"],[0.6666666666666666,\"#ed7953\"],[0.7777777777777778,\"#fb9f3a\"],[0.8888888888888888,\"#fdca26\"],[1.0,\"#f0f921\"]]}],\"heatmapgl\":[{\"type\":\"heatmapgl\",\"colorbar\":{\"outlinewidth\":0,\"ticks\":\"\"},\"colorscale\":[[0.0,\"#0d0887\"],[0.1111111111111111,\"#46039f\"],[0.2222222222222222,\"#7201a8\"],[0.3333333333333333,\"#9c179e\"],[0.4444444444444444,\"#bd3786\"],[0.5555555555555556,\"#d8576b\"],[0.6666666666666666,\"#ed7953\"],[0.7777777777777778,\"#fb9f3a\"],[0.8888888888888888,\"#fdca26\"],[1.0,\"#f0f921\"]]}],\"contourcarpet\":[{\"type\":\"contourcarpet\",\"colorbar\":{\"outlinewidth\":0,\"ticks\":\"\"}}],\"contour\":[{\"type\":\"contour\",\"colorbar\":{\"outlinewidth\":0,\"ticks\":\"\"},\"colorscale\":[[0.0,\"#0d0887\"],[0.1111111111111111,\"#46039f\"],[0.2222222222222222,\"#7201a8\"],[0.3333333333333333,\"#9c179e\"],[0.4444444444444444,\"#bd3786\"],[0.5555555555555556,\"#d8576b\"],[0.6666666666666666,\"#ed7953\"],[0.7777777777777778,\"#fb9f3a\"],[0.8888888888888888,\"#fdca26\"],[1.0,\"#f0f921\"]]}],\"surface\":[{\"type\":\"surface\",\"colorbar\":{\"outlinewidth\":0,\"ticks\":\"\"},\"colorscale\":[[0.0,\"#0d0887\"],[0.1111111111111111,\"#46039f\"],[0.2222222222222222,\"#7201a8\"],[0.3333333333333333,\"#9c179e\"],[0.4444444444444444,\"#bd3786\"],[0.5555555555555556,\"#d8576b\"],[0.6666666666666666,\"#ed7953\"],[0.7777777777777778,\"#fb9f3a\"],[0.8888888888888888,\"#fdca26\"],[1.0,\"#f0f921\"]]}],\"mesh3d\":[{\"type\":\"mesh3d\",\"colorbar\":{\"outlinewidth\":0,\"ticks\":\"\"}}],\"scatter\":[{\"fillpattern\":{\"fillmode\":\"overlay\",\"size\":10,\"solidity\":0.2},\"type\":\"scatter\"}],\"parcoords\":[{\"type\":\"parcoords\",\"line\":{\"colorbar\":{\"outlinewidth\":0,\"ticks\":\"\"}}}],\"scatterpolargl\":[{\"type\":\"scatterpolargl\",\"marker\":{\"colorbar\":{\"outlinewidth\":0,\"ticks\":\"\"}}}],\"bar\":[{\"error_x\":{\"color\":\"#2a3f5f\"},\"error_y\":{\"color\":\"#2a3f5f\"},\"marker\":{\"line\":{\"color\":\"#E5ECF6\",\"width\":0.5},\"pattern\":{\"fillmode\":\"overlay\",\"size\":10,\"solidity\":0.2}},\"type\":\"bar\"}],\"scattergeo\":[{\"type\":\"scattergeo\",\"marker\":{\"colorbar\":{\"outlinewidth\":0,\"ticks\":\"\"}}}],\"scatterpolar\":[{\"type\":\"scatterpolar\",\"marker\":{\"colorbar\":{\"outlinewidth\":0,\"ticks\":\"\"}}}],\"histogram\":[{\"marker\":{\"pattern\":{\"fillmode\":\"overlay\",\"size\":10,\"solidity\":0.2}},\"type\":\"histogram\"}],\"scattergl\":[{\"type\":\"scattergl\",\"marker\":{\"colorbar\":{\"outlinewidth\":0,\"ticks\":\"\"}}}],\"scatter3d\":[{\"type\":\"scatter3d\",\"line\":{\"colorbar\":{\"outlinewidth\":0,\"ticks\":\"\"}},\"marker\":{\"colorbar\":{\"outlinewidth\":0,\"ticks\":\"\"}}}],\"scattermapbox\":[{\"type\":\"scattermapbox\",\"marker\":{\"colorbar\":{\"outlinewidth\":0,\"ticks\":\"\"}}}],\"scatterternary\":[{\"type\":\"scatterternary\",\"marker\":{\"colorbar\":{\"outlinewidth\":0,\"ticks\":\"\"}}}],\"scattercarpet\":[{\"type\":\"scattercarpet\",\"marker\":{\"colorbar\":{\"outlinewidth\":0,\"ticks\":\"\"}}}],\"carpet\":[{\"aaxis\":{\"endlinecolor\":\"#2a3f5f\",\"gridcolor\":\"white\",\"linecolor\":\"white\",\"minorgridcolor\":\"white\",\"startlinecolor\":\"#2a3f5f\"},\"baxis\":{\"endlinecolor\":\"#2a3f5f\",\"gridcolor\":\"white\",\"linecolor\":\"white\",\"minorgridcolor\":\"white\",\"startlinecolor\":\"#2a3f5f\"},\"type\":\"carpet\"}],\"table\":[{\"cells\":{\"fill\":{\"color\":\"#EBF0F8\"},\"line\":{\"color\":\"white\"}},\"header\":{\"fill\":{\"color\":\"#C8D4E3\"},\"line\":{\"color\":\"white\"}},\"type\":\"table\"}],\"barpolar\":[{\"marker\":{\"line\":{\"color\":\"#E5ECF6\",\"width\":0.5},\"pattern\":{\"fillmode\":\"overlay\",\"size\":10,\"solidity\":0.2}},\"type\":\"barpolar\"}],\"pie\":[{\"automargin\":true,\"type\":\"pie\"}]},\"layout\":{\"autotypenumbers\":\"strict\",\"colorway\":[\"#636efa\",\"#EF553B\",\"#00cc96\",\"#ab63fa\",\"#FFA15A\",\"#19d3f3\",\"#FF6692\",\"#B6E880\",\"#FF97FF\",\"#FECB52\"],\"font\":{\"color\":\"#2a3f5f\"},\"hovermode\":\"closest\",\"hoverlabel\":{\"align\":\"left\"},\"paper_bgcolor\":\"white\",\"plot_bgcolor\":\"#E5ECF6\",\"polar\":{\"bgcolor\":\"#E5ECF6\",\"angularaxis\":{\"gridcolor\":\"white\",\"linecolor\":\"white\",\"ticks\":\"\"},\"radialaxis\":{\"gridcolor\":\"white\",\"linecolor\":\"white\",\"ticks\":\"\"}},\"ternary\":{\"bgcolor\":\"#E5ECF6\",\"aaxis\":{\"gridcolor\":\"white\",\"linecolor\":\"white\",\"ticks\":\"\"},\"baxis\":{\"gridcolor\":\"white\",\"linecolor\":\"white\",\"ticks\":\"\"},\"caxis\":{\"gridcolor\":\"white\",\"linecolor\":\"white\",\"ticks\":\"\"}},\"coloraxis\":{\"colorbar\":{\"outlinewidth\":0,\"ticks\":\"\"}},\"colorscale\":{\"sequential\":[[0.0,\"#0d0887\"],[0.1111111111111111,\"#46039f\"],[0.2222222222222222,\"#7201a8\"],[0.3333333333333333,\"#9c179e\"],[0.4444444444444444,\"#bd3786\"],[0.5555555555555556,\"#d8576b\"],[0.6666666666666666,\"#ed7953\"],[0.7777777777777778,\"#fb9f3a\"],[0.8888888888888888,\"#fdca26\"],[1.0,\"#f0f921\"]],\"sequentialminus\":[[0.0,\"#0d0887\"],[0.1111111111111111,\"#46039f\"],[0.2222222222222222,\"#7201a8\"],[0.3333333333333333,\"#9c179e\"],[0.4444444444444444,\"#bd3786\"],[0.5555555555555556,\"#d8576b\"],[0.6666666666666666,\"#ed7953\"],[0.7777777777777778,\"#fb9f3a\"],[0.8888888888888888,\"#fdca26\"],[1.0,\"#f0f921\"]],\"diverging\":[[0,\"#8e0152\"],[0.1,\"#c51b7d\"],[0.2,\"#de77ae\"],[0.3,\"#f1b6da\"],[0.4,\"#fde0ef\"],[0.5,\"#f7f7f7\"],[0.6,\"#e6f5d0\"],[0.7,\"#b8e186\"],[0.8,\"#7fbc41\"],[0.9,\"#4d9221\"],[1,\"#276419\"]]},\"xaxis\":{\"gridcolor\":\"white\",\"linecolor\":\"white\",\"ticks\":\"\",\"title\":{\"standoff\":15},\"zerolinecolor\":\"white\",\"automargin\":true,\"zerolinewidth\":2},\"yaxis\":{\"gridcolor\":\"white\",\"linecolor\":\"white\",\"ticks\":\"\",\"title\":{\"standoff\":15},\"zerolinecolor\":\"white\",\"automargin\":true,\"zerolinewidth\":2},\"scene\":{\"xaxis\":{\"backgroundcolor\":\"#E5ECF6\",\"gridcolor\":\"white\",\"linecolor\":\"white\",\"showbackground\":true,\"ticks\":\"\",\"zerolinecolor\":\"white\",\"gridwidth\":2},\"yaxis\":{\"backgroundcolor\":\"#E5ECF6\",\"gridcolor\":\"white\",\"linecolor\":\"white\",\"showbackground\":true,\"ticks\":\"\",\"zerolinecolor\":\"white\",\"gridwidth\":2},\"zaxis\":{\"backgroundcolor\":\"#E5ECF6\",\"gridcolor\":\"white\",\"linecolor\":\"white\",\"showbackground\":true,\"ticks\":\"\",\"zerolinecolor\":\"white\",\"gridwidth\":2}},\"shapedefaults\":{\"line\":{\"color\":\"#2a3f5f\"}},\"annotationdefaults\":{\"arrowcolor\":\"#2a3f5f\",\"arrowhead\":0,\"arrowwidth\":1},\"geo\":{\"bgcolor\":\"white\",\"landcolor\":\"#E5ECF6\",\"subunitcolor\":\"white\",\"showland\":true,\"showlakes\":true,\"lakecolor\":\"white\"},\"title\":{\"x\":0.05},\"mapbox\":{\"style\":\"light\"}}},\"xaxis\":{\"anchor\":\"y\",\"domain\":[0.0,1.0],\"title\":{\"text\":\"Age (years)\"}},\"yaxis\":{\"anchor\":\"x\",\"domain\":[0.0,1.0],\"title\":{\"text\":\"Blood Pressure Level\"}},\"legend\":{\"title\":{\"text\":\"Outcome\"},\"tracegroupgap\":0},\"title\":{\"text\":\"Interactive Plot of Age vs. Blood Pressure\"},\"hoverlabel\":{\"font\":{\"size\":18},\"bgcolor\":\"orange\"}},                        {\"responsive\": true}                    ).then(function(){\n",
       "                            \n",
       "var gd = document.getElementById('df5c6d12-c1e3-498c-ac92-71672f1ce1d2');\n",
       "var x = new MutationObserver(function (mutations, observer) {{\n",
       "        var display = window.getComputedStyle(gd).display;\n",
       "        if (!display || display === 'none') {{\n",
       "            console.log([gd, 'removed!']);\n",
       "            Plotly.purge(gd);\n",
       "            observer.disconnect();\n",
       "        }}\n",
       "}});\n",
       "\n",
       "// Listen for the removal of the full notebook cells\n",
       "var notebookContainer = gd.closest('#notebook-container');\n",
       "if (notebookContainer) {{\n",
       "    x.observe(notebookContainer, {childList: true});\n",
       "}}\n",
       "\n",
       "// Listen for the clearing of the current output cell\n",
       "var outputEl = gd.closest('.output');\n",
       "if (outputEl) {{\n",
       "    x.observe(outputEl, {childList: true});\n",
       "}}\n",
       "\n",
       "                        })                };                });            </script>        </div>"
      ]
     },
     "metadata": {},
     "output_type": "display_data"
    }
   ],
   "source": [
    "import pandas as pd\n",
    "import plotly.express as px\n",
    "\n",
    "data = pd.read_csv(\"Disease_symptom_and_patient_profile_dataset.csv\")\n",
    "\n",
    "# Using Plotly to create an interactive plotting\n",
    "fig = px.scatter(data, x=\"Age\", y=\"Blood Pressure\", color=\"Outcome Variable\", hover_data=[\"Disease\", \"Gender\"],\n",
    "                 title=\"Interactive Plot of Age vs. Blood Pressure\",\n",
    "                 labels={\"Age\": \"Age (years)\", \"Blood Pressure\": \"Blood Pressure Level\"})\n",
    "\n",
    "fig.update_layout(\n",
    "    xaxis_title=\"Age (years)\",\n",
    "    yaxis_title=\"Blood Pressure Level\",\n",
    "    legend_title=\"Outcome\",\n",
    "    hoverlabel=dict(\n",
    "        bgcolor=\"orange\",\n",
    "        font_size=18,\n",
    "    )\n",
    ")\n",
    "\n",
    "fig.show()\n"
   ]
  },
  {
   "cell_type": "code",
   "execution_count": null,
   "id": "0ca63482",
   "metadata": {},
   "outputs": [],
   "source": []
  },
  {
   "cell_type": "code",
   "execution_count": null,
   "id": "1af575d5",
   "metadata": {},
   "outputs": [],
   "source": []
  }
 ],
 "metadata": {
  "kernelspec": {
   "display_name": "Python 3 (ipykernel)",
   "language": "python",
   "name": "python3"
  },
  "language_info": {
   "codemirror_mode": {
    "name": "ipython",
    "version": 3
   },
   "file_extension": ".py",
   "mimetype": "text/x-python",
   "name": "python",
   "nbconvert_exporter": "python",
   "pygments_lexer": "ipython3",
   "version": "3.11.5"
  }
 },
 "nbformat": 4,
 "nbformat_minor": 5
}
